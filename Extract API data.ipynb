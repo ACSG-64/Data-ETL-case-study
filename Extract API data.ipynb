{
 "cells": [
  {
   "cell_type": "markdown",
   "metadata": {},
   "source": [
    "<center>\n",
    "    <img src=\"https://gitlab.com/ibm/skills-network/courses/placeholder101/-/raw/master/labs/module%201/images/IDSNlogo.png\" width=\"300\" alt=\"cognitiveclass.ai logo\"  />\n",
    "</center>\n"
   ]
  },
  {
   "cell_type": "markdown",
   "metadata": {},
   "source": [
    "# Peer Review Assignment - Data Engineer - Extract API Data\n"
   ]
  },
  {
   "cell_type": "markdown",
   "metadata": {},
   "source": [
    "Estimated time needed: **20** minutes\n"
   ]
  },
  {
   "cell_type": "markdown",
   "metadata": {},
   "source": [
    "## Objectives\n",
    "\n",
    "In this part you will:\n",
    "\n",
    "*   Collect exchange rate data using an API\n",
    "*   Store the data as a CSV\n"
   ]
  },
  {
   "cell_type": "markdown",
   "metadata": {},
   "source": [
    "For this lab, we are going to be using Python and several Python libraries. Some of these libraries might be installed in your lab environment or in SN Labs. Others may need to be installed by you. The cells below will install these libraries when executed.\n"
   ]
  },
  {
   "cell_type": "code",
   "execution_count": null,
   "metadata": {},
   "outputs": [],
   "source": [
    "#!pip install pandas\n",
    "#!pip install requests"
   ]
  },
  {
   "cell_type": "markdown",
   "metadata": {},
   "source": [
    "## Imports\n",
    "\n",
    "Import any additional libraries you may need here.\n"
   ]
  },
  {
   "cell_type": "code",
   "execution_count": 1,
   "metadata": {},
   "outputs": [],
   "source": [
    "import requests\n",
    "import pandas as pd"
   ]
  },
  {
   "cell_type": "markdown",
   "metadata": {},
   "source": [
    "## Extract Data Using an API\n"
   ]
  },
  {
   "cell_type": "markdown",
   "metadata": {},
   "source": [
    "Using ExchangeRate-API we will extract currency exchange rate data. Use the below steps to get the access key and to get the data.\n",
    "\n",
    "1.  Open the url : [https://exchangeratesapi.io/](https://exchangeratesapi.io/?utm_medium=Exinfluencer&utm_source=Exinfluencer&utm_content=000026UJ&utm_term=10006555&utm_id=NA-SkillsNetwork-Channel-SkillsNetworkCoursesIBMDeveloperSkillsNetworkPY0221ENSkillsNetwork23455645-2021-01-01) and create a free account.\n",
    "2.  Once the account is created. You will get the Get the Free API key option on the top as shown below:\n",
    "\n",
    "<img src=\"https://cf-courses-data.s3.us.cloud-object-storage.appdomain.cloud/IBMDeveloperSkillsNetwork-PY0221EN-SkillsNetwork/labs/module%206/Final%20Assignment/Images/getapi.png\"/>\n",
    "\n",
    "3.  Copy the API key and use in the url in Question 1.\n"
   ]
  },
  {
   "cell_type": "markdown",
   "metadata": {},
   "source": [
    "### Call the API\n",
    "\n",
    "<b> Question 1</b> Using the `requests` library call the endpoint given above and save the text, remember the first few characters of the output:\n"
   ]
  },
  {
   "cell_type": "code",
   "execution_count": 8,
   "metadata": {},
   "outputs": [],
   "source": [
    "# Write your code here\n",
    "url = \"http://api.exchangeratesapi.io/v1/latest?base=EUR&access_key=433b221456b0bc7e3ab9ae938fba10f6\"  #Make sure to change ******* to your API key.\n",
    "currency = requests.get(url)"
   ]
  },
  {
   "cell_type": "code",
   "execution_count": 45,
   "metadata": {},
   "outputs": [
    {
     "data": {
      "text/plain": [
       "'{\"success\":true,\"timestamp\":1633232644,\"base\":\"EUR\",\"date\":\"2021-10-03\",\"rates\":{\"AED\":4.259072,\"AFN\":103.784283,\"ALL\":121.927067,\"AMD\":562.752891,\"ANG\":2.080902,\"AOA\":694.570404,\"ARS\":114.456461,\"AUD\":1.597719,\"AWG\":2.087189,\"AZN\":1.975837,\"BAM\":1.957593,\"BBD\":2.340707,\"BDT\":99.305102,\"BGN\":1.955795,\"BHD\":0.437188,\"BIF\":2314.460225,\"BMD\":1.159549,\"BND\":1.574363,\"BOB\":8.004933,\"BRL\":6.222262,\"BSD\":1.159294,\"BTC\":2.4322095e-5,\"BTN\":85.95474,\"BWP\":13.107151,\"BYN\":2.914525,\"BYR\":22727.164537,\"BZD\":2.336824,\"CAD\":1.466807,\"CDF\":2321.41794,\"CHF\":1.078999,\"CLF\":0.033756,\"CLP\":931.419958,\"CNY\":7.475271,\"COP\":4394.69151,\"CRC\":725.728507,\"CUC\":1.159549,\"CUP\":30.728054,\"CVE\":110.679429,\"CZK\":25.320849,\"DJF\":206.075542,\"DKK\":7.43794,\"DOP\":65.457009,\"DZD\":159.26454,\"EGP\":18.228516,\"ERN\":17.398983,\"ETB\":53.575668,\"EUR\":1,\"FJD\":2.458829,\"FKP\":0.837751,\"GBP\":0.856072,\"GEL\":3.606651,\"GGP\":0.837751,\"GHS\":7.015725,\"GIP\":0.837751,\"GMD\":59.775214,\"GNF\":11328.796205,\"GTQ\":8.97177,\"GYD\":242.537955,\"HKD\":9.027149,\"HNL\":28.03835,\"HRK\":7.500085,\"HTG\":114.190893,\"HUF\":357.779359,\"IDR\":16549.028363,\"ILS\":3.732478,\"IMP\":0.837751,\"INR\":85.974822,\"IQD\":1692.362074,\"IRR\":48921.381625,\"ISK\":150.336003,\"JEP\":0.837751,\"JMD\":169.656929,\"JOD\":0.822166,\"JPY\":128.798673,\"KES\":128.134598,\"KGS\":98.327807,\"KHR\":4748.354426,\"KMF\":492.403018,\"KPW\":1043.594307,\"KRW\":1371.306533,\"KWD\":0.349547,\"KYD\":0.966137,\"KZT\":494.68548,\"LAK\":11601.290262,\"LBP\":1770.63205,\"LKR\":231.568947,\"LRD\":198.283319,\"LSL\":17.544422,\"LTL\":3.423848,\"LVL\":0.7014,\"LYD\":5.287986,\"MAD\":10.511898,\"MDL\":20.363738,\"MGA\":4580.219786,\"MKD\":61.670536,\"MMK\":2169.62117,\"MNT\":3292.235935,\"MOP\":9.296551,\"MRO\":413.958869,\"MUR\":49.508685,\"MVR\":17.915474,\"MWK\":945.033007,\"MXN\":23.71383,\"MYR\":4.854457,\"MZN\":74.014464,\"NAD\":17.544417,\"NGN\":476.308467,\"NIO\":40.874547,\"NOK\":9.995489,\"NPR\":137.527103,\"NZD\":1.668369,\"OMR\":0.446471,\"PAB\":1.159294,\"PEN\":4.798799,\"PGK\":4.099051,\"PHP\":58.836438,\"PKR\":197.993462,\"PLN\":4.58051,\"PYG\":8007.534812,\"QAR\":4.221963,\"RON\":4.945946,\"RSD\":117.68598,\"RUB\":84.267461,\"RWF\":1156.650338,\"SAR\":4.349207,\"SBD\":9.347472,\"SCR\":15.647941,\"SDG\":511.361596,\"SEK\":10.159716,\"SGD\":1.574755,\"SHP\":1.597168,\"SLL\":12273.828792,\"SOS\":678.336681,\"SRD\":24.894946,\"STD\":24000.327549,\"SVC\":10.143785,\"SYP\":1458.061495,\"SZL\":17.544408,\"THB\":39.139468,\"TJS\":13.135229,\"TMT\":4.058422,\"TND\":3.284428,\"TOP\":2.632761,\"TRY\":10.274809,\"TTD\":7.874652,\"TWD\":32.201108,\"TZS\":2672.761321,\"UAH\":30.874403,\"UGX\":4103.818662,\"USD\":1.159549,\"UYU\":49.734071,\"UZS\":12407.176947,\"VEF\":247946665618.82202,\"VND\":26389.020946,\"VUV\":129.442487,\"WST\":2.968816,\"XAF\":656.525575,\"XAG\":0.051455,\"XAU\":0.000659,\"XCD\":3.13374,\"XDR\":0.822813,\"XOF\":649.931509,\"XPF\":119.955788,\"YER\":290.177612,\"ZAR\":17.234531,\"ZMK\":10437.338525,\"ZMW\":19.418217,\"ZWL\":373.374373}}'"
      ]
     },
     "execution_count": 45,
     "metadata": {},
     "output_type": "execute_result"
    }
   ],
   "source": [
    "test = requests.get(url)\n",
    "test.text"
   ]
  },
  {
   "cell_type": "code",
   "execution_count": 10,
   "metadata": {},
   "outputs": [
    {
     "data": {
      "text/plain": [
       "{'AED': 4.259072,\n",
       " 'AFN': 103.784283,\n",
       " 'ALL': 121.927067,\n",
       " 'AMD': 562.752891,\n",
       " 'ANG': 2.080902,\n",
       " 'AOA': 694.570404,\n",
       " 'ARS': 114.456461,\n",
       " 'AUD': 1.597719,\n",
       " 'AWG': 2.087189,\n",
       " 'AZN': 1.975837,\n",
       " 'BAM': 1.957593,\n",
       " 'BBD': 2.340707,\n",
       " 'BDT': 99.305102,\n",
       " 'BGN': 1.955795,\n",
       " 'BHD': 0.437188,\n",
       " 'BIF': 2314.460225,\n",
       " 'BMD': 1.159549,\n",
       " 'BND': 1.574363,\n",
       " 'BOB': 8.004933,\n",
       " 'BRL': 6.222262,\n",
       " 'BSD': 1.159294,\n",
       " 'BTC': 2.4388761e-05,\n",
       " 'BTN': 85.95474,\n",
       " 'BWP': 13.107151,\n",
       " 'BYN': 2.914525,\n",
       " 'BYR': 22727.164537,\n",
       " 'BZD': 2.336824,\n",
       " 'CAD': 1.466807,\n",
       " 'CDF': 2321.41794,\n",
       " 'CHF': 1.078999,\n",
       " 'CLF': 0.033756,\n",
       " 'CLP': 931.419958,\n",
       " 'CNY': 7.475271,\n",
       " 'COP': 4394.69151,\n",
       " 'CRC': 725.728507,\n",
       " 'CUC': 1.159549,\n",
       " 'CUP': 30.728054,\n",
       " 'CVE': 110.679429,\n",
       " 'CZK': 25.320849,\n",
       " 'DJF': 206.075542,\n",
       " 'DKK': 7.43794,\n",
       " 'DOP': 65.457009,\n",
       " 'DZD': 159.26454,\n",
       " 'EGP': 18.228516,\n",
       " 'ERN': 17.398983,\n",
       " 'ETB': 53.575668,\n",
       " 'EUR': 1,\n",
       " 'FJD': 2.458829,\n",
       " 'FKP': 0.837751,\n",
       " 'GBP': 0.856072,\n",
       " 'GEL': 3.606651,\n",
       " 'GGP': 0.837751,\n",
       " 'GHS': 7.015725,\n",
       " 'GIP': 0.837751,\n",
       " 'GMD': 59.775214,\n",
       " 'GNF': 11328.796205,\n",
       " 'GTQ': 8.97177,\n",
       " 'GYD': 242.537955,\n",
       " 'HKD': 9.027149,\n",
       " 'HNL': 28.03835,\n",
       " 'HRK': 7.500085,\n",
       " 'HTG': 114.190893,\n",
       " 'HUF': 357.779359,\n",
       " 'IDR': 16549.028363,\n",
       " 'ILS': 3.732478,\n",
       " 'IMP': 0.837751,\n",
       " 'INR': 85.974822,\n",
       " 'IQD': 1692.362074,\n",
       " 'IRR': 48921.381625,\n",
       " 'ISK': 150.336003,\n",
       " 'JEP': 0.837751,\n",
       " 'JMD': 169.656929,\n",
       " 'JOD': 0.822166,\n",
       " 'JPY': 128.798673,\n",
       " 'KES': 128.134598,\n",
       " 'KGS': 98.327807,\n",
       " 'KHR': 4748.354426,\n",
       " 'KMF': 492.403018,\n",
       " 'KPW': 1043.594307,\n",
       " 'KRW': 1371.306533,\n",
       " 'KWD': 0.349547,\n",
       " 'KYD': 0.966137,\n",
       " 'KZT': 494.68548,\n",
       " 'LAK': 11601.290262,\n",
       " 'LBP': 1770.63205,\n",
       " 'LKR': 231.568947,\n",
       " 'LRD': 198.283319,\n",
       " 'LSL': 17.544422,\n",
       " 'LTL': 3.423848,\n",
       " 'LVL': 0.7014,\n",
       " 'LYD': 5.287986,\n",
       " 'MAD': 10.511898,\n",
       " 'MDL': 20.363738,\n",
       " 'MGA': 4580.219786,\n",
       " 'MKD': 61.670536,\n",
       " 'MMK': 2169.62117,\n",
       " 'MNT': 3292.235935,\n",
       " 'MOP': 9.296551,\n",
       " 'MRO': 413.958869,\n",
       " 'MUR': 49.508685,\n",
       " 'MVR': 17.915474,\n",
       " 'MWK': 945.033007,\n",
       " 'MXN': 23.71383,\n",
       " 'MYR': 4.854457,\n",
       " 'MZN': 74.014464,\n",
       " 'NAD': 17.544417,\n",
       " 'NGN': 476.308467,\n",
       " 'NIO': 40.874547,\n",
       " 'NOK': 9.995489,\n",
       " 'NPR': 137.527103,\n",
       " 'NZD': 1.668369,\n",
       " 'OMR': 0.446471,\n",
       " 'PAB': 1.159294,\n",
       " 'PEN': 4.798799,\n",
       " 'PGK': 4.099051,\n",
       " 'PHP': 58.836438,\n",
       " 'PKR': 197.993462,\n",
       " 'PLN': 4.58051,\n",
       " 'PYG': 8007.534812,\n",
       " 'QAR': 4.221963,\n",
       " 'RON': 4.945946,\n",
       " 'RSD': 117.68598,\n",
       " 'RUB': 84.267461,\n",
       " 'RWF': 1156.650338,\n",
       " 'SAR': 4.349207,\n",
       " 'SBD': 9.347472,\n",
       " 'SCR': 15.647941,\n",
       " 'SDG': 511.361596,\n",
       " 'SEK': 10.159716,\n",
       " 'SGD': 1.574755,\n",
       " 'SHP': 1.597168,\n",
       " 'SLL': 12273.828792,\n",
       " 'SOS': 678.336681,\n",
       " 'SRD': 24.894946,\n",
       " 'STD': 24000.327549,\n",
       " 'SVC': 10.143785,\n",
       " 'SYP': 1458.061495,\n",
       " 'SZL': 17.544408,\n",
       " 'THB': 39.139468,\n",
       " 'TJS': 13.135229,\n",
       " 'TMT': 4.058422,\n",
       " 'TND': 3.284428,\n",
       " 'TOP': 2.632761,\n",
       " 'TRY': 10.274809,\n",
       " 'TTD': 7.874652,\n",
       " 'TWD': 32.201108,\n",
       " 'TZS': 2672.761321,\n",
       " 'UAH': 30.874403,\n",
       " 'UGX': 4103.818662,\n",
       " 'USD': 1.159549,\n",
       " 'UYU': 49.734071,\n",
       " 'UZS': 12407.176947,\n",
       " 'VEF': 247946665618.82202,\n",
       " 'VND': 26389.020946,\n",
       " 'VUV': 129.442487,\n",
       " 'WST': 2.968816,\n",
       " 'XAF': 656.525575,\n",
       " 'XAG': 0.051455,\n",
       " 'XAU': 0.000659,\n",
       " 'XCD': 3.13374,\n",
       " 'XDR': 0.822813,\n",
       " 'XOF': 649.931509,\n",
       " 'XPF': 119.955788,\n",
       " 'YER': 290.177612,\n",
       " 'ZAR': 17.234531,\n",
       " 'ZMK': 10437.338525,\n",
       " 'ZMW': 19.418217,\n",
       " 'ZWL': 373.374373}"
      ]
     },
     "execution_count": 10,
     "metadata": {},
     "output_type": "execute_result"
    }
   ],
   "source": [
    "currency.json()['rates']"
   ]
  },
  {
   "cell_type": "markdown",
   "metadata": {},
   "source": [
    "### Save as DataFrame\n",
    "\n",
    "<b> Question 2</b>  Using the data gathered turn it into a `pandas` dataframe. The dataframe should have the Currency as the index and `Rate` as their columns. Make sure to drop unnecessary columns.\n"
   ]
  },
  {
   "cell_type": "code",
   "execution_count": 34,
   "metadata": {},
   "outputs": [],
   "source": [
    "# Turn the data into a dataframe\n",
    "df = pd.DataFrame(list(currency.json()['rates'].items()), columns = ['Currency', 'Rate'])"
   ]
  },
  {
   "cell_type": "code",
   "execution_count": 35,
   "metadata": {},
   "outputs": [],
   "source": [
    "df = df.set_index('Currency')\n",
    "df.index.names = [None]"
   ]
  },
  {
   "cell_type": "code",
   "execution_count": 36,
   "metadata": {},
   "outputs": [
    {
     "data": {
      "text/html": [
       "<div>\n",
       "<style scoped>\n",
       "    .dataframe tbody tr th:only-of-type {\n",
       "        vertical-align: middle;\n",
       "    }\n",
       "\n",
       "    .dataframe tbody tr th {\n",
       "        vertical-align: top;\n",
       "    }\n",
       "\n",
       "    .dataframe thead th {\n",
       "        text-align: right;\n",
       "    }\n",
       "</style>\n",
       "<table border=\"1\" class=\"dataframe\">\n",
       "  <thead>\n",
       "    <tr style=\"text-align: right;\">\n",
       "      <th></th>\n",
       "      <th>Rate</th>\n",
       "    </tr>\n",
       "  </thead>\n",
       "  <tbody>\n",
       "    <tr>\n",
       "      <th>AED</th>\n",
       "      <td>4.259072</td>\n",
       "    </tr>\n",
       "    <tr>\n",
       "      <th>AFN</th>\n",
       "      <td>103.784283</td>\n",
       "    </tr>\n",
       "    <tr>\n",
       "      <th>ALL</th>\n",
       "      <td>121.927067</td>\n",
       "    </tr>\n",
       "    <tr>\n",
       "      <th>AMD</th>\n",
       "      <td>562.752891</td>\n",
       "    </tr>\n",
       "    <tr>\n",
       "      <th>ANG</th>\n",
       "      <td>2.080902</td>\n",
       "    </tr>\n",
       "  </tbody>\n",
       "</table>\n",
       "</div>"
      ],
      "text/plain": [
       "           Rate\n",
       "AED    4.259072\n",
       "AFN  103.784283\n",
       "ALL  121.927067\n",
       "AMD  562.752891\n",
       "ANG    2.080902"
      ]
     },
     "execution_count": 36,
     "metadata": {},
     "output_type": "execute_result"
    }
   ],
   "source": [
    "df.head()"
   ]
  },
  {
   "cell_type": "code",
   "execution_count": null,
   "metadata": {},
   "outputs": [],
   "source": [
    "# Drop unnescessary columns\n"
   ]
  },
  {
   "cell_type": "markdown",
   "metadata": {},
   "source": [
    "### Load the Data\n",
    "\n",
    "Using the dataframe save it as a CSV names `exchange_rates_1.csv`.\n"
   ]
  },
  {
   "cell_type": "code",
   "execution_count": 37,
   "metadata": {},
   "outputs": [],
   "source": [
    "# Save the Dataframe\n",
    "df.to_csv('./exchange_rates_1.csv')"
   ]
  },
  {
   "cell_type": "markdown",
   "metadata": {},
   "source": [
    "Your CSV should be in this format with more currencies\n",
    "\n",
    "|     | Rates      |\n",
    "| --- | ---------- |\n",
    "| AED | 4.398618   |\n",
    "| AFN | 92.917693  |\n",
    "| ALL | 123.099093 |\n",
    "| AMD | 621.935674 |\n",
    "| ANG | 2.149648   |\n"
   ]
  },
  {
   "cell_type": "markdown",
   "metadata": {},
   "source": [
    "## Authors\n"
   ]
  },
  {
   "cell_type": "markdown",
   "metadata": {},
   "source": [
    "Ramesh Sannareddy, Joseph Santarcangelo and Azim Hirjani\n"
   ]
  },
  {
   "cell_type": "markdown",
   "metadata": {},
   "source": [
    "### Other Contributors\n"
   ]
  },
  {
   "cell_type": "markdown",
   "metadata": {},
   "source": [
    "Rav Ahuja\n"
   ]
  },
  {
   "cell_type": "markdown",
   "metadata": {},
   "source": [
    "## Change Log\n"
   ]
  },
  {
   "cell_type": "markdown",
   "metadata": {},
   "source": [
    "| Date (YYYY-MM-DD) | Version | Changed By        | Change Description                 |\n",
    "| ----------------- | ------- | ----------------- | ---------------------------------- |\n",
    "| 2021-04-15        | 0.2     | Malika            | Updated the lab from USD to EUR    |\n",
    "| 2020-11-25        | 0.1     | Ramesh Sannareddy | Created initial version of the lab |\n"
   ]
  },
  {
   "cell_type": "markdown",
   "metadata": {},
   "source": [
    "Copyright © 2020 IBM Corporation. This notebook and its source code are released under the terms of the [MIT License](https://cognitiveclass.ai/mit-license?utm_medium=Exinfluencer&utm_source=Exinfluencer&utm_content=000026UJ&utm_term=10006555&utm_id=NA-SkillsNetwork-Channel-SkillsNetworkCoursesIBMDeveloperSkillsNetworkPY0221ENSkillsNetwork23455645-2021-01-01&cm_mmc=Email_Newsletter-\\_-Developer_Ed%2BTech-\\_-WW_WW-\\_-SkillsNetwork-Courses-IBM-DA0321EN-SkillsNetwork-21426264&cm_mmca1=000026UJ&cm_mmca2=10006555&cm_mmca3=M12345678&cvosrc=email.Newsletter.M12345678&cvo_campaign=000026UJ).\n"
   ]
  }
 ],
 "metadata": {
  "kernelspec": {
   "display_name": "Python",
   "language": "python",
   "name": "conda-env-python-py"
  },
  "language_info": {
   "codemirror_mode": {
    "name": "ipython",
    "version": 3
   },
   "file_extension": ".py",
   "mimetype": "text/x-python",
   "name": "python",
   "nbconvert_exporter": "python",
   "pygments_lexer": "ipython3",
   "version": "3.7.10"
  }
 },
 "nbformat": 4,
 "nbformat_minor": 4
}
